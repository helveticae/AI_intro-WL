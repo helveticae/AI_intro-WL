{
 "cells": [
  {
   "cell_type": "markdown",
   "metadata": {},
   "source": [
    "### <span style=\"font-family:Trebuchet MS; color:#599dd4; font-size:0.9em;\">Workflow for AI/ML app - William Akilles Lindstedt</span> <span style=\"font-family:Trebuchet MS; font-size:0.6em;\">[ITHS AI22 Introduction]</span>\n",
    "--- \n",
    "\n",
    "\n",
    "In this short essay I will in broad terms describe the the machine learning algorithm linear regression and the process of collecting and validating data. I have chosen a real estate application for this scenario which will theoretically simulate a model of housing prices.\n",
    "\n",
    "---\n",
    "\n",
    "\n",
    "\n",
    "### How can data be collected, which formats can be used, where can it be saved?\n",
    "\n",
    "Some data is easy to collect, this is the case with attributes for houses, such as selling price, location and number of rooms. It can be retrieved from various private companies databases with APIs or though public housing records.\n",
    "\n",
    "Depending on backend development it may vary, but common formats are [MDF (SQL)](https://en.wikipedia.org/wiki/Microsoft_SQL_Server#Data_storage), [JSON (JS)](https://en.wikipedia.org/wiki/JSON) and [CSV](https://en.wikipedia.org/wiki/Comma-separated_values).\n",
    "\n",
    ">In this scenario we have a JSON file open in Python:"
   ]
  },
  {
   "cell_type": "code",
   "execution_count": 33,
   "metadata": {},
   "outputs": [
    {
     "data": {
      "text/plain": [
       "{'streetName': 'Andra Långgatan 24',\n",
       " 'location': 'Göteborg',\n",
       " 'sellingPrice': '2 250 000',\n",
       " 'rooms': '3,5'}"
      ]
     },
     "execution_count": 33,
     "metadata": {},
     "output_type": "execute_result"
    }
   ],
   "source": [
    "import json\n",
    "with open('data.json') as file:\n",
    "    data = json.load(file)\n",
    "data[0]"
   ]
  },
  {
   "cell_type": "markdown",
   "metadata": {},
   "source": [
    "###### ^Example of json storage structure with its key values.\n",
    "\n",
    "### How can the data be processed into the right format?\n",
    "\n",
    "Cleaning or cleansing is a type of data validation involving removing typographical errors or validating and correcting values against a known list of entities. For example, several houses might have the same location with different spelling or letter casing. In the above example, the attributes \"sellingPrice\" and \"rooms\" are formatted in a way which is easy to read for a human, but inconviniet for a machine.\n",
    "\n",
    "By using a string-searching algorithm such as [regex](https://en.wikipedia.org/wiki/Regular_expression), we easily reformat sellingPrice by removing blank spaces, leaving us with an integer. A similar technique applies to rooms and other attributes.\n",
    "\n",
    "Breaking up a group or a string into separate components is called parsing. By parsing the location values, perhaps through slicing, the issues can be corrected using different methods. In ML this is an example of pre-processing.\n",
    "\n",
    "When using Python and JSON, it's important to use the correct formats and use appropriate type conversion.\n",
    "\n",
    "<b>Python-JSON type compatibility table</b>\n",
    "<br>\n",
    "\n",
    "|Python|JSON|\n",
    "|:-----|:---|\n",
    "|dict|object|\n",
    "|list, tuple|array|\n",
    "|str|string|\n",
    "|int, float, int|number|\n",
    "|True|true|\n",
    "|False|false|\n",
    "|None|null|"
   ]
  },
  {
   "cell_type": "markdown",
   "metadata": {},
   "source": [
    "### How can the data be visualized?\n",
    "\n",
    "Data can be visualized with Python or Ruby among many other languages. Python has the plotting library [matplotlib](https://en.wikipedia.org/wiki/Matplotlib) which can be used to visualise data in 2D and 3D spaces.\n",
    "\n",
    "<img src=\"https://upload.wikimedia.org/wikipedia/commons/9/98/Matplotlib_scatter_v.svg\">\n",
    "###### Example of scatter plot, using matplotlib."
   ]
  },
  {
   "cell_type": "code",
   "execution_count": null,
   "metadata": {},
   "outputs": [],
   "source": [
    "import matplotlib as plt\n",
    "def visualize():\n",
    "    pass  # TODO example of visualize using plt"
   ]
  },
  {
   "cell_type": "markdown",
   "metadata": {},
   "source": [
    "### How does linear regression work?\n",
    "\n",
    "Linear regression is a statistical technique used to predict values of a continuous dependent variable, given a set of predictor variables (key values). The method is used to find the equation of a line that best fits a given set of data points. The equation can be used to make predictions about the dependent variable, given new values of the predictor variables.\n",
    "\n",
    "We'll split our data set into a training set and a test set. The training set will be used to train our model and the test set will be used to evaluate our model.\n",
    "\n",
    "This method might not be the best model for this scenario - a linear regression model would not be able to accurately capture the more complex relationship between housing features and some data, such as location, needs to be quantified.\n",
    "\n",
    "### How can the model be put into production?\n",
    "\n",
    "The model should be carefully tested and evaluated before deployment. Once QA had been completed, we could use [REST API](https://en.wikipedia.org/wiki/Representational_state_transfer).\n",
    "\n",
    "### Which technologies can be used in the different steps of the machine learning process?\n",
    "\n",
    "Web scraping to collect data."
   ]
  },
  {
   "cell_type": "markdown",
   "metadata": {},
   "source": [
    "### Citations & References\n",
    "\n",
    "null"
   ]
  }
 ],
 "metadata": {
  "kernelspec": {
   "display_name": "Python 3.9.13 ('helvetica-vDNe7t5J')",
   "language": "python",
   "name": "python3"
  },
  "language_info": {
   "codemirror_mode": {
    "name": "ipython",
    "version": 3
   },
   "file_extension": ".py",
   "mimetype": "text/x-python",
   "name": "python",
   "nbconvert_exporter": "python",
   "pygments_lexer": "ipython3",
   "version": "3.9.13"
  },
  "orig_nbformat": 4,
  "vscode": {
   "interpreter": {
    "hash": "87963c44df63088d167d5530105c3e3af538607c5bfb8dea2d5d486a9477964e"
   }
  }
 },
 "nbformat": 4,
 "nbformat_minor": 2
}
