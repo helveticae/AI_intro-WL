{
 "cells": [
  {
   "cell_type": "markdown",
   "metadata": {},
   "source": [
    "\n",
    "In this short essay will in broad terms describe the the machine learning algorithm linear regression and the process of collecting and validating data.\n",
    "\n",
    "---\n",
    "\n",
    "### How can data be collected, which formats can be used, where can it be saved?\n",
    "\n",
    "Some data is easy to collect, this is the case with attributes for houses, such as selling price on corelation to location and number of rooms. It can be retrieved from various housing brokers' databases or public housing records.\n",
    "Depending on backend development it may vary, but common formats are MDF (SQL), JSON (JS) and CSV.\n",
    "\n",
    "In this scenario we have a JSON file in Python:\n"
   ]
  },
  {
   "cell_type": "code",
   "execution_count": null,
   "metadata": {},
   "outputs": [],
   "source": [
    "import json\n",
    "with open('data.json') as file:\n",
    "    data = json.load(file)\n",
    "\n",
    "data"
   ]
  },
  {
   "cell_type": "markdown",
   "metadata": {},
   "source": [
    "### How can the data be processed into the right format?\n",
    "\n",
    "Cleaning or cleansing is a type of data validation involves removing typographical errors or validating and correcting values against a known list of entities.\n",
    "\n",
    "Data cleansing may also involve harmonization (or normalization) of data, which is the process of bringing together data of \"varying file formats, naming conventions, and columns\", and transforming it into one cohesive data set; a simple example is the expansion of abbreviations (\"st, rd, etc.\" to \"street, road, etcetera\").\n",
    "Multiple houses might have the same location but be spelled differently, \n",
    "Breaking up a group or a string into separate components is called parsing."
   ]
  },
  {
   "cell_type": "code",
   "execution_count": 4,
   "metadata": {},
   "outputs": [],
   "source": [
    "def cleanse():\n",
    "    pass # TODO example of cleansing"
   ]
  },
  {
   "cell_type": "markdown",
   "metadata": {},
   "source": [
    "### How can the data be visualized?\n",
    "\n",
    "Data can be visualized with Python or Ruby among many other languages."
   ]
  },
  {
   "cell_type": "code",
   "execution_count": null,
   "metadata": {},
   "outputs": [],
   "source": [
    "import matplotlib as plt\n",
    "def visualize():\n",
    "    pass  # TODO example of visualize using plt"
   ]
  },
  {
   "cell_type": "markdown",
   "metadata": {},
   "source": [
    "### How does linear regression work?\n",
    "\n",
    "We assume the function to be linear and with confidence and precision estimate α, β and σ as well predict future values.\n",
    "\n",
    "### How can the model be put into production?\n",
    "\n",
    "Using REST API\n",
    "\n",
    "### Which technologies can be used in the different steps of the machine learning process?\n",
    "\n",
    "Web scraping to collect data. "
   ]
  }
 ],
 "metadata": {
  "kernelspec": {
   "display_name": "Python 3.9.13 ('helvetica-vDNe7t5J')",
   "language": "python",
   "name": "python3"
  },
  "language_info": {
   "codemirror_mode": {
    "name": "ipython",
    "version": 3
   },
   "file_extension": ".py",
   "mimetype": "text/x-python",
   "name": "python",
   "nbconvert_exporter": "python",
   "pygments_lexer": "ipython3",
   "version": "3.9.13"
  },
  "orig_nbformat": 4,
  "vscode": {
   "interpreter": {
    "hash": "87963c44df63088d167d5530105c3e3af538607c5bfb8dea2d5d486a9477964e"
   }
  }
 },
 "nbformat": 4,
 "nbformat_minor": 2
}
